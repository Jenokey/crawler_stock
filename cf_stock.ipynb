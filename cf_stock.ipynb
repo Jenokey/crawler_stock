{
 "cells": [
  {
   "cell_type": "code",
   "execution_count": 2,
   "metadata": {},
   "outputs": [],
   "source": [
    "import requests\n",
    "from bs4 import BeautifulSoup\n",
    "import pandas as pd"
   ]
  },
  {
   "cell_type": "code",
   "execution_count": 3,
   "metadata": {},
   "outputs": [],
   "source": [
    "def get_top_stock():\n",
    "    try:\n",
    "        res=requests.get('https://cafef.vn/get-top-stock.chn')\n",
    "        data=res.json()['stocks']\n",
    "    except:\n",
    "        return \"Không thể tìm nạp dữ liệu\"    \n",
    "    return data \n",
    "\n",
    "def get_info_stock(stock_name):\n",
    "    try:\n",
    "        res=requests.get(f'https://e.cafef.vn/info.ashx?type=cp&symbol={stock_name}')\n",
    "        data=res.json()\n",
    "    except:\n",
    "        return \"Không thể tìm nạp dữ liệu hoặc mã cổ phiếu cần tìm bị sai\"    \n",
    "    return data "
   ]
  },
  {
   "cell_type": "code",
   "execution_count": 4,
   "metadata": {},
   "outputs": [],
   "source": [
    "def get_list_post(page_num):\n",
    "    try:\n",
    "        res=requests.get(f'https://cafef.vn/timelinelist/18831/{page_num}.chn')\n",
    "        soup=BeautifulSoup(res.content,'html.parser')\n",
    "        data=soup.find_all(class_='tlitem box-category-item')\n",
    "\n",
    "\n",
    "    except Exception as e :\n",
    "        return f\"gặp lỗi : {e}\"    \n",
    "    return data \n"
   ]
  },
  {
   "cell_type": "code",
   "execution_count": 5,
   "metadata": {},
   "outputs": [],
   "source": [
    "def get_info__post(data):\n",
    "    times=[]\n",
    "    desc=[]\n",
    "    links=[]\n",
    "    titles=[]\n",
    "    for i in range (len(data)):\n",
    "        times.append(data[i].find(class_='time time-ago').text)\n",
    "        desc.append(data[i].find(class_='sapo box-category-sapo').text)\n",
    "        links.append('https://cafef.vn'+data[i].find('a',href=True)['href'])\n",
    "        titles.append(data[i].find('a',href=True).text)\n",
    "\n",
    "    return times,desc,links,titles\n",
    "\n",
    "        "
   ]
  },
  {
   "cell_type": "code",
   "execution_count": 6,
   "metadata": {},
   "outputs": [],
   "source": [
    "def get_content_post(link_post):\n",
    "    content=''\n",
    "    try:\n",
    "        res=requests.get(link_post)\n",
    "        soup=BeautifulSoup(res.content,'html.parser')\n",
    "        c=soup.find(class_='detail-content afcbc-body')\n",
    "        p=c.find_all('p')\n",
    "        for i in range(len(p)):\n",
    "            content=content+ p[i].text+ '\\n'\n",
    "\n",
    "\n",
    "\n",
    "    except Exception as e :\n",
    "        return f\"gặp lỗi : {e}\"    \n",
    "    return content \n",
    "    "
   ]
  },
  {
   "cell_type": "code",
   "execution_count": 7,
   "metadata": {},
   "outputs": [],
   "source": [
    "column_names = ['Title', 'Desc', 'Content','Link','Time']  \n",
    "\n",
    "df = pd.DataFrame(columns=column_names)"
   ]
  },
  {
   "cell_type": "code",
   "execution_count": 8,
   "metadata": {},
   "outputs": [],
   "source": [
    "for i in range(1,15):\n",
    "    content=[]\n",
    "    times,desc,links,titles=get_info__post(get_list_post(i))\n",
    "    for j in range(len(links)):\n",
    "        content.append(get_content_post(links[j]))\n",
    "       \n",
    "    temp_df = pd.DataFrame({'Title':titles, 'Desc':desc, 'Content':content,'Link':links,'Time':times})\n",
    "    df=pd.concat([df, temp_df])\n",
    "\n"
   ]
  },
  {
   "cell_type": "code",
   "execution_count": 9,
   "metadata": {},
   "outputs": [
    {
     "data": {
      "text/html": [
       "<div>\n",
       "<style scoped>\n",
       "    .dataframe tbody tr th:only-of-type {\n",
       "        vertical-align: middle;\n",
       "    }\n",
       "\n",
       "    .dataframe tbody tr th {\n",
       "        vertical-align: top;\n",
       "    }\n",
       "\n",
       "    .dataframe thead th {\n",
       "        text-align: right;\n",
       "    }\n",
       "</style>\n",
       "<table border=\"1\" class=\"dataframe\">\n",
       "  <thead>\n",
       "    <tr style=\"text-align: right;\">\n",
       "      <th></th>\n",
       "      <th>Title</th>\n",
       "      <th>Desc</th>\n",
       "      <th>Content</th>\n",
       "      <th>Link</th>\n",
       "      <th>Time</th>\n",
       "    </tr>\n",
       "  </thead>\n",
       "  <tbody>\n",
       "    <tr>\n",
       "      <th>0</th>\n",
       "      <td>Khối ngoại mua ròng nhẹ trong phiên cuối tuần,...</td>\n",
       "      <td>Sau nhiều phiên mạnh tay xả ròng ngày 22/6, gi...</td>\n",
       "      <td>Xu hướng tích cực nối dài, VN-Index ghi nhận...</td>\n",
       "      <td>https://cafef.vn/khoi-ngoai-mua-rong-nhe-trong...</td>\n",
       "      <td>2023-06-23T15:54:00</td>\n",
       "    </tr>\n",
       "    <tr>\n",
       "      <th>1</th>\n",
       "      <td>Vinamilk bất ngờ giao dịch đột biến sau 17 năm...</td>\n",
       "      <td>Sau 3 phiên liên tiếp hồi phục từ đáy một năm,...</td>\n",
       "      <td>Thị trường chứng khoán vừa khép lại phiên gi...</td>\n",
       "      <td>https://cafef.vn/vinamilk-bat-ngo-giao-dich-do...</td>\n",
       "      <td>2023-06-23T15:45:00</td>\n",
       "    </tr>\n",
       "    <tr>\n",
       "      <th>2</th>\n",
       "      <td>Dragon Capital tiếp tục gom thêm cổ phần Hoa S...</td>\n",
       "      <td>Sau giao dịch, nhóm quỹ Dragon Capital tăng lư...</td>\n",
       "      <td>Nhóm quỹ Dragon Capital vừa có báo cáo về gi...</td>\n",
       "      <td>https://cafef.vn/dragon-capital-tiep-tuc-gom-t...</td>\n",
       "      <td>2023-06-23T15:08:00</td>\n",
       "    </tr>\n",
       "    <tr>\n",
       "      <th>3</th>\n",
       "      <td>Chủ tịch Louis Holdings Đỗ Thành Nhân kháng cá...</td>\n",
       "      <td>Theo kháng cáo, ông Đỗ Thành Nhân đề nghị cấp ...</td>\n",
       "      <td>Ngày 24/6, được biết TAND TP Hà Nội vừa nhận...</td>\n",
       "      <td>https://cafef.vn/chu-tich-louis-holdings-do-th...</td>\n",
       "      <td>2023-06-23T10:24:00</td>\n",
       "    </tr>\n",
       "    <tr>\n",
       "      <th>4</th>\n",
       "      <td>Đằng sau cuộc chiến giá rẻ: \"Chiêu trò\" truyền...</td>\n",
       "      <td>Theo chuyên gia truyền thông, Thế Giới Di Động...</td>\n",
       "      <td>Cạnh tranh qua thông điệp quảng cáo - chuyện k...</td>\n",
       "      <td>https://cafef.vn/dang-sau-cuoc-chien-gia-re-ch...</td>\n",
       "      <td>2023-06-23T08:01:00</td>\n",
       "    </tr>\n",
       "  </tbody>\n",
       "</table>\n",
       "</div>"
      ],
      "text/plain": [
       "                                               Title  \\\n",
       "0  Khối ngoại mua ròng nhẹ trong phiên cuối tuần,...   \n",
       "1  Vinamilk bất ngờ giao dịch đột biến sau 17 năm...   \n",
       "2  Dragon Capital tiếp tục gom thêm cổ phần Hoa S...   \n",
       "3  Chủ tịch Louis Holdings Đỗ Thành Nhân kháng cá...   \n",
       "4  Đằng sau cuộc chiến giá rẻ: \"Chiêu trò\" truyền...   \n",
       "\n",
       "                                                Desc  \\\n",
       "0  Sau nhiều phiên mạnh tay xả ròng ngày 22/6, gi...   \n",
       "1  Sau 3 phiên liên tiếp hồi phục từ đáy một năm,...   \n",
       "2  Sau giao dịch, nhóm quỹ Dragon Capital tăng lư...   \n",
       "3  Theo kháng cáo, ông Đỗ Thành Nhân đề nghị cấp ...   \n",
       "4  Theo chuyên gia truyền thông, Thế Giới Di Động...   \n",
       "\n",
       "                                             Content  \\\n",
       "0    Xu hướng tích cực nối dài, VN-Index ghi nhận...   \n",
       "1    Thị trường chứng khoán vừa khép lại phiên gi...   \n",
       "2    Nhóm quỹ Dragon Capital vừa có báo cáo về gi...   \n",
       "3    Ngày 24/6, được biết TAND TP Hà Nội vừa nhận...   \n",
       "4  Cạnh tranh qua thông điệp quảng cáo - chuyện k...   \n",
       "\n",
       "                                                Link                 Time  \n",
       "0  https://cafef.vn/khoi-ngoai-mua-rong-nhe-trong...  2023-06-23T15:54:00  \n",
       "1  https://cafef.vn/vinamilk-bat-ngo-giao-dich-do...  2023-06-23T15:45:00  \n",
       "2  https://cafef.vn/dragon-capital-tiep-tuc-gom-t...  2023-06-23T15:08:00  \n",
       "3  https://cafef.vn/chu-tich-louis-holdings-do-th...  2023-06-23T10:24:00  \n",
       "4  https://cafef.vn/dang-sau-cuoc-chien-gia-re-ch...  2023-06-23T08:01:00  "
      ]
     },
     "execution_count": 9,
     "metadata": {},
     "output_type": "execute_result"
    }
   ],
   "source": [
    "df.head(5)"
   ]
  },
  {
   "cell_type": "code",
   "execution_count": null,
   "metadata": {},
   "outputs": [],
   "source": [
    "df.to_csv('dulieu.csv')"
   ]
  }
 ],
 "metadata": {
  "kernelspec": {
   "display_name": "Python 3",
   "language": "python",
   "name": "python3"
  },
  "language_info": {
   "codemirror_mode": {
    "name": "ipython",
    "version": 3
   },
   "file_extension": ".py",
   "mimetype": "text/x-python",
   "name": "python",
   "nbconvert_exporter": "python",
   "pygments_lexer": "ipython3",
   "version": "3.11.2"
  },
  "orig_nbformat": 4
 },
 "nbformat": 4,
 "nbformat_minor": 2
}
