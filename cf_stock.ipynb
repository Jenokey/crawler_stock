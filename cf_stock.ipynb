{
 "cells": [
  {
   "cell_type": "code",
   "execution_count": 1,
   "metadata": {},
   "outputs": [],
   "source": [
    "import requests"
   ]
  },
  {
   "cell_type": "code",
   "execution_count": 23,
   "metadata": {},
   "outputs": [],
   "source": [
    "def get_top_stock():\n",
    "    try:\n",
    "        res=requests.get('https://cafef.vn/get-top-stock.chn')\n",
    "        data=res.json()['stocks']\n",
    "    except:\n",
    "        return \"Không thể tìm nạp dữ liệu\"    \n",
    "    return data \n",
    "\n",
    "def get_info_stock(stock_name):\n",
    "    try:\n",
    "        res=requests.get(f'https://e.cafef.vn/info.ashx?type=cp&symbol={stock_name}')\n",
    "        data=res.json()\n",
    "    except:\n",
    "        return \"Không thể tìm nạp dữ liệu hoặc mã cổ phiếu cần tìm bị sai\"    \n",
    "    return data "
   ]
  },
  {
   "cell_type": "code",
   "execution_count": 22,
   "metadata": {},
   "outputs": [
    {
     "data": {
      "text/plain": [
       "'Không thể tìm nạp dữ liệu'"
      ]
     },
     "execution_count": 22,
     "metadata": {},
     "output_type": "execute_result"
    }
   ],
   "source": [
    "get_info_stock('NTV')"
   ]
  }
 ],
 "metadata": {
  "kernelspec": {
   "display_name": "Python 3",
   "language": "python",
   "name": "python3"
  },
  "language_info": {
   "codemirror_mode": {
    "name": "ipython",
    "version": 3
   },
   "file_extension": ".py",
   "mimetype": "text/x-python",
   "name": "python",
   "nbconvert_exporter": "python",
   "pygments_lexer": "ipython3",
   "version": "3.11.2"
  },
  "orig_nbformat": 4
 },
 "nbformat": 4,
 "nbformat_minor": 2
}
